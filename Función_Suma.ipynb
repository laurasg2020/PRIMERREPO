{
  "nbformat": 4,
  "nbformat_minor": 0,
  "metadata": {
    "colab": {
      "name": "Función_Suma.ipynb",
      "provenance": [],
      "authorship_tag": "ABX9TyPamvody1OlVv3VGJ6cC7BM",
      "include_colab_link": true
    },
    "kernelspec": {
      "name": "python3",
      "display_name": "Python 3"
    },
    "language_info": {
      "name": "python"
    }
  },
  "cells": [
    {
      "cell_type": "markdown",
      "metadata": {
        "id": "view-in-github",
        "colab_type": "text"
      },
      "source": [
        "<a href=\"https://colab.research.google.com/github/laurasg2020/PRIMERREPO/blob/main/Funci%C3%B3n_Suma.ipynb\" target=\"_parent\"><img src=\"https://colab.research.google.com/assets/colab-badge.svg\" alt=\"Open In Colab\"/></a>"
      ]
    },
    {
      "cell_type": "code",
      "execution_count": 3,
      "metadata": {
        "id": "f48ZizUWcDFy",
        "colab": {
          "base_uri": "https://localhost:8080/"
        },
        "outputId": "ab714a10-1998-4445-9278-fa98c6cb1333"
      },
      "outputs": [
        {
          "output_type": "stream",
          "name": "stdout",
          "text": [
            "INGRESE UN NUMERO: 5000\n",
            "INGRESE OTRO NUMERO: 167894\n",
            "EL RESULTADO ES:  172894\n"
          ]
        }
      ],
      "source": [
        "# Suma dos numeros enteros cuales quiera ingresando su valores consecutivamente\n",
        "n1 = int(input(\"INGRESE UN NUMERO: \"))\n",
        "n2 = int(input(\"INGRESE OTRO NUMERO: \"))\n",
        "sum = n1 + n2\n",
        "print(\"EL RESULTADO ES: \", sum)\n"
      ]
    }
  ]
}