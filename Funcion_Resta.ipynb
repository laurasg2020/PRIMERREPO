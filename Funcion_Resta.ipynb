{
  "nbformat": 4,
  "nbformat_minor": 0,
  "metadata": {
    "colab": {
      "name": "Funcion_Resta.ipynb",
      "provenance": [],
      "toc_visible": true,
      "mount_file_id": "1Mju4P5KLkUnDO0ibH9_s8wRRZ2aQWu2t",
      "authorship_tag": "ABX9TyP4qOoGwoVX9ycDyxwe6JHx",
      "include_colab_link": true
    },
    "kernelspec": {
      "name": "python3",
      "display_name": "Python 3"
    },
    "language_info": {
      "name": "python"
    }
  },
  "cells": [
    {
      "cell_type": "markdown",
      "metadata": {
        "id": "view-in-github",
        "colab_type": "text"
      },
      "source": [
        "<a href=\"https://colab.research.google.com/github/laurasg2020/PRIMERREPO/blob/main/Funcion_Resta.ipynb\" target=\"_parent\"><img src=\"https://colab.research.google.com/assets/colab-badge.svg\" alt=\"Open In Colab\"/></a>"
      ]
    },
    {
      "cell_type": "code",
      "execution_count": 1,
      "metadata": {
        "colab": {
          "base_uri": "https://localhost:8080/"
        },
        "id": "_o_TllClgTpZ",
        "outputId": "9ffa8d67-e4f8-42c9-fc17-5d03e3f53089"
      },
      "outputs": [
        {
          "output_type": "stream",
          "name": "stdout",
          "text": [
            "16\n"
          ]
        }
      ],
      "source": [
        "# Resta dos valores enteros a y b definidos previamente\n",
        "a = 27\n",
        "b = 11\n",
        "c = a - b\n",
        "print( c )"
      ]
    }
  ]
}